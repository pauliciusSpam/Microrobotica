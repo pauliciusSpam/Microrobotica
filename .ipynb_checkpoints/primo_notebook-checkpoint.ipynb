{
 "cells": [
  {
   "cell_type": "markdown",
   "id": "c953ca2e-a307-4865-955d-7427bd0bb6c7",
   "metadata": {},
   "source": [
    "# Questo è un notebook, il primo\n",
    "in questo notebook vedremo molta roba\n",
    "\n",
    "questa cella è scritta in *MarkDown*. Ecco un esempio di **grassetto**\n"
   ]
  },
  {
   "cell_type": "code",
   "execution_count": 1,
   "id": "d830969b-9e7b-423f-ae79-afbea2f83646",
   "metadata": {},
   "outputs": [
    {
     "data": {
      "text/plain": [
       "5"
      ]
     },
     "execution_count": 1,
     "metadata": {},
     "output_type": "execute_result"
    }
   ],
   "source": [
    "2+3"
   ]
  },
  {
   "cell_type": "code",
   "execution_count": 2,
   "id": "f1532991-9e54-4adb-89d1-eb073d959a0a",
   "metadata": {},
   "outputs": [
    {
     "name": "stdout",
     "output_type": "stream",
     "text": [
      "2\n"
     ]
    }
   ],
   "source": [
    "l = [1,2,3]\n",
    "print(l[1])"
   ]
  },
  {
   "cell_type": "markdown",
   "id": "06f8205f-9013-49fb-b13a-18d9628e1370",
   "metadata": {},
   "source": [
    "# Pericoli nell'uso dei notebook"
   ]
  },
  {
   "cell_type": "code",
   "execution_count": 5,
   "id": "1dfffa71-dcfc-461a-baf2-a078a32f585f",
   "metadata": {},
   "outputs": [],
   "source": [
    "a = 1"
   ]
  },
  {
   "cell_type": "code",
   "execution_count": 1,
   "id": "5b4ae372-7c70-4473-a87d-55a948ffbb69",
   "metadata": {},
   "outputs": [
    {
     "name": "stdout",
     "output_type": "stream",
     "text": [
      "ciao\n"
     ]
    }
   ],
   "source": [
    "print(\"ciao\")"
   ]
  },
  {
   "cell_type": "code",
   "execution_count": 6,
   "id": "bae95391-8192-4687-b8a2-bea29587dc2a",
   "metadata": {},
   "outputs": [
    {
     "data": {
      "text/plain": [
       "1"
      ]
     },
     "execution_count": 6,
     "metadata": {},
     "output_type": "execute_result"
    }
   ],
   "source": [
    "a"
   ]
  },
  {
   "cell_type": "markdown",
   "id": "92a1ef0d-6685-43f1-afab-1d0cdac8ba58",
   "metadata": {},
   "source": [
    "# Ripasso vario su Python"
   ]
  },
  {
   "cell_type": "markdown",
   "id": "eaf16af5-d6f6-435b-b229-1b336eeaa9cc",
   "metadata": {},
   "source": [
    "1) Generare una stringa di testo casuale di lunghezza assegnata, la stringa può contente lettere, numeri, spazi, simboli di punteggiatura"
   ]
  },
  {
   "cell_type": "code",
   "execution_count": 7,
   "id": "be9e22eb-c2f4-4950-a6db-2e7ad2a182d3",
   "metadata": {},
   "outputs": [
    {
     "data": {
      "text/plain": [
       "\u001b[1;31mSignature:\u001b[0m \u001b[0mchr\u001b[0m\u001b[1;33m(\u001b[0m\u001b[0mi\u001b[0m\u001b[1;33m,\u001b[0m \u001b[1;33m/\u001b[0m\u001b[1;33m)\u001b[0m\u001b[1;33m\u001b[0m\u001b[1;33m\u001b[0m\u001b[0m\n",
       "\u001b[1;31mDocstring:\u001b[0m Return a Unicode string of one character with ordinal i; 0 <= i <= 0x10ffff.\n",
       "\u001b[1;31mType:\u001b[0m      builtin_function_or_method"
      ]
     },
     "metadata": {},
     "output_type": "display_data"
    }
   ],
   "source": [
    "chr?"
   ]
  },
  {
   "cell_type": "code",
   "execution_count": 8,
   "id": "46253124-a70d-4b4c-b29b-5af6c89b2df9",
   "metadata": {},
   "outputs": [
    {
     "data": {
      "text/plain": [
       "'\"'"
      ]
     },
     "execution_count": 8,
     "metadata": {},
     "output_type": "execute_result"
    }
   ],
   "source": [
    "chr(34)"
   ]
  },
  {
   "cell_type": "code",
   "execution_count": 9,
   "id": "6f82d198-8817-4bbf-b970-96705727915a",
   "metadata": {},
   "outputs": [
    {
     "data": {
      "text/plain": [
       "'8'"
      ]
     },
     "execution_count": 9,
     "metadata": {},
     "output_type": "execute_result"
    }
   ],
   "source": [
    "chr(56)"
   ]
  },
  {
   "cell_type": "code",
   "execution_count": 10,
   "id": "126755eb-38cb-46cf-ba22-2b1741a2de7a",
   "metadata": {},
   "outputs": [],
   "source": [
    "import random"
   ]
  },
  {
   "cell_type": "code",
   "execution_count": 20,
   "id": "c0a944bf-d872-4c21-9011-43596b139582",
   "metadata": {},
   "outputs": [
    {
     "name": "stdout",
     "output_type": "stream",
     "text": [
      "9V¬\u001c",
      "ë=ÔÓïë6ü^C²Û\n"
     ]
    }
   ],
   "source": [
    "lenght = 20\n",
    "# il metodo join() è un metodo delle stringhe! Però vuole come parametro una lista di stringhe, inserisce la parola in ogni parte della lista\n",
    "string = \"\".join([chr(random.randint(0, 255)) for _ in range(lenght)])\n",
    "print(string)"
   ]
  },
  {
   "cell_type": "code",
   "execution_count": 25,
   "id": "40b1a3e8-ee2c-45bc-aafc-fea184705459",
   "metadata": {},
   "outputs": [
    {
     "name": "stdout",
     "output_type": "stream",
     "text": [
      "/v x2:dx:w!dee8t1=qc\n"
     ]
    }
   ],
   "source": [
    "chars = \"abcdefghilmnopqrstuvwxyz 0123456789,;.:-_!£$%&/=\"\n",
    "string = \"\".join([(random.choice(chars)) for _ in range(lenght)])\n",
    "print(string)"
   ]
  },
  {
   "cell_type": "markdown",
   "id": "08bbebc0-98e7-46cb-8669-60abd3c57704",
   "metadata": {},
   "source": [
    "## compito\n",
    "* Cercate un testo letterario in un formato .txt\n",
    "* Leggete il file. \n",
    "* Create un dizionario che ha come chiavi tutti i caratteri presenti nel file .txt e come valore la frequenza assoluta del carattere nel testo.\n",
    "* Create un dizionario che ha come chiavi tutti i caratteri presenti nel file .txt e come valore delle liste. La lista contiene tutti caratteri successori della lettera usata come chiave"
   ]
  },
  {
   "cell_type": "code",
   "execution_count": 4,
   "id": "ad420d84-5c0e-4d92-93cb-78dfac90d27c",
   "metadata": {},
   "outputs": [],
   "source": [
    "import random"
   ]
  },
  {
   "cell_type": "code",
   "execution_count": null,
   "id": "60db576e-139c-4870-b8bd-09f2b08539cf",
   "metadata": {},
   "outputs": [
    {
     "name": "stdout",
     "output_type": "stream",
     "text": [
      "Dizionario delle frequenze:\n",
      "{'L': 4, 'o': 198, 'n': 120, 't': 94, 'a': 226, ' ': 436, 'd': 52, 'l': 137, 'G': 1, 'r': 114, 'e': 181, 'M': 13, '\\n': 63, 'C': 8, \"'\": 11, 'è': 8, 'u': 71, 'p': 40, 'i': 207, 'c': 79, 'm': 45, 'f': 20, 'v': 23, 'O': 2, 'g': 36, 's': 102, 'b': 20, ',': 11, 'P': 4, 'h': 72, 'à': 22, 'S': 12, 'q': 12, 'T': 12, 'ò': 1, '(': 33, 'N': 4, ')': 33, 'D': 8, 'z': 3, 'R': 2, 'é': 3, 'A': 8, 'U': 7, 'ã': 6, 'Q': 7, 'E': 14, ':': 3, 'B': 2, 'È': 1, 'I': 4, 'ì': 1, '?': 3, 'k': 1, 'y': 1, 'V': 1, 'F': 1}\n",
      "\n",
      "Dizionario dei successori:\n",
      "{'L': ['o', 'o', 'e', 'e'], 'o': ['n', ' ', 'l', ' ', 'm', ' ', 'r', ' ', 'n', 'n', 'l', 's', 'p', ' ', 'c', 's', ' ', 'c', ' ', 'v', 'm', 'r', 'n', 'r', 'n', ' ', 'l', 'n', 'm', 'r', ')', 'r', ' ', 'n', ' ', ' ', ')', 'r', 'n', 'l', '\\n', 'r', ' ', ' ', 'g', '\\n', 'n', 'n', '\\n', 'c', 'l', 'n', '\\n', 'g', ' ', '\\n', ' ', ' ', ' ', '\\n', ' ', ' ', ' ', 'n', '\\n', ' ', 'r', 'g', ' ', 'v', ' ', 'l', ' ', ' ', 'h', 'r', 'r', ' ', 'r', 'h', 's', ' ', 's', ')', 'c', 'n', ' ', 'h', 'l', 'r', 'h', \"'\", ',', ' ', ')', 'n', 'n', 'n', '\\n', 'l', ' ', ' ', '\\n', ' ', ' ', ' ', 's', 'm', ' ', 'm', 'n', ' ', 's', 'n', ')', 'n', ' ', ' ', 'm', 'p', 'n', 'r', 'n', ' ', 'l', 's', 'n', '\\n', 's', ' ', ' ', 's', ' ', ' ', 'r', 't', ' ', 'm', ' ', 'l', '\\n', ' ', ' ', 't', 'n', ' ', 'l', ' ', ' ', 'h', 'r', 'r', ' ', 'r', 'h', 's', ' ', 's', ')', 'c', 'n', ' ', 'h', 'l', 'r', 'h', ' ', 'n', ' ', ' ', 'n', ' ', ' ', ' ', 'l', 'r', 'r', ' ', 'b', ' ', ' ', 'h', 'r', 'r', ' ', 'r', 'h', 's', ' ', 's', ')', 'c', 'n', ' ', 'h', 'l', 'r', 'h'], 'n': ['t', 'o', 'd', ' ', ' ', 'a', 'i', 'o', 'a', ' ', 'e', 'a', 'e', 'a', 'a', ' ', 't', 'o', 'o', ' ', 'o', ' ', 'n', 'o', 't', 't', 'c', 'o', ' ', 'i', 'o', 'o', 't', 'e', 'f', 'd', 'a', 'd', 'd', ' ', 't', 's', 'd', 'a', 'd', 'a', ' ', 'u', 'ã', 'ã', 't', ' ', ' ', 'o', ' ', 'd', 'd', 'o', ' ', 'c', 'e', 'o', 'u', 'o', 'g', 't', 'o', 'e', 'i', 'd', ' ', 'o', 'o', ' ', 'e', ' ', 'o', ' ', 'o', 'i', 'd', 'i', ' ', 'i', ' ', 'n', 'i', 'q', 'o', 'd', 'e', 's', 'o', 'o', 'd', 'd', ' ', 'ã', 'ã', 't', ' ', ' ', 'o', 't', 't', 'i', 'a', 'c', 'e', 'd', 'e', ' ', 'd', 'o', 'ã', 'ã', 't', ' ', ' ', 'o'], 't': ['a', 't', 'i', 'e', 'r', 'e', 'r', 'à', 'i', 'r', 't', 'o', 'à', 'à', 'u', 'a', 't', 'e', 'r', 'a', 'o', 'e', 'o', 'i', 'r', 'o', 'a', 'e', 'e', 'a', 'a', 'o', 'a', 'a', 't', 'à', 't', 'a', 'u', 't', 'a', 'e', 't', 'e', 'o', 'u', 't', \"'\", 'r', 'i', 'i', 'i', 'i', 'a', 'r', 't', 'o', 'a', 'r', 'a', 'u', 't', 'o', 'a', 't', 'o', 't', 'a', 'e', 't', 'e', 'a', 'a', 'o', 'a', 'a', 't', 'à', 'o', 'a', 'u', 't', 'i', 'i', 't', 'o', 'u', 'a', 'a', 'o', 'a', 'a', 't', 'à'], 'a': ['n', 'l', ' ', 'n', '\\n', ' ', 'v', '\\n', ' ', 'l', '\\n', 'l', ' ', 't', ' ', ' ', '\\n', 'd', 'g', 't', '\\n', '\\n', ' ', 'l', ' ', 'n', 'i', ' ', 'l', 'n', 'l', ' ', 'n', ' ', 'v', 'n', ' ', 'l', 'l', ' ', 'n', 'm', 'l', 'r', ' ', 'l', 'l', ' ', ' ', 'l', 'n', 'l', ' ', '\\n', ' ', ' ', 'n', 'l', ' ', ' ', 'r', 'l', 'v', 's', 'l', ' ', 'r', 'm', ' ', 'p', 'l', 'r', 'c', 'n', ' ', ' ', ' ', ')', 'l', 'r', 'c', 'n', ' ', ' ', ' ', ' ', ' ', ' ', ' ', ' ', ' ', 'm', ' ', 'm', ' ', ' ', 's', 'v', 's', 'v', 'v', 'l', 'l', 'r', ' ', 'n', ' ', 'm', 'l', 'l', ' ', ' ', ' ', 'l', 's', 'n', ' ', 'i', 'd', ' ', 'i', ' ', 'i', 'i', 'e', 's', ' ', ' ', 'n', 'i', 'l', ' ', ' ', 'l', 'm', 'm', 'm', ' ', 'l', 'm', 'l', ' ', 'n', '?', 'd', ' ', 'r', 'c', ' ', 'n', 'r', ' ', '\\n', 'c', 'l', 'r', 'c', 'n', ' ', ' ', ' ', ')', 'l', 'r', 'c', 'n', ' ', ' ', ' ', ' ', ' ', ' ', ' ', ' ', ' ', 'm', ' ', 'm', ' ', 'n', 'm', 'n', 'm', 't', '\\n', 'n', ' ', ',', 'l', '\\n', ' ', 'g', ' ', 'z', ',', ' ', ' ', '?', 'n', 'r', 'l', 'l', 'r', 'c', 'n', ' ', ' ', ' ', ')', 'l', 'r', 'c', 'n', ' ', ' ', ' ', ' ', ' ', ' ', ' ', ' ', ' ', 'm', ' ', 'm', ' '], ' ': ['d', 'G', 'M', 'u', 'p', 'u', 'i', 'u', 'f', 'g', 's', 's', 'e', 's', 'a', 'i', 'p', 'd', 'm', 'a', 's', 'l', 's', 's', 'p', 'm', 'p', 'p', 't', 's', 'q', 'p', 'c', 'h', 'p', 'e', 'c', 'f', 'd', 'p', 'c', 'c', 'l', 'd', 'v', 'b', 'c', 'n', 'p', 'c', 'g', 'e', 'a', '(', 'n', 'h', 'i', 't', 'c', 'h', 'l', '(', 'a', 's', 'n', 'h', 'm', 'g', 'r', 'i', 's', 's', 'a', 'q', 'p', 's', 'g', 'o', 'e', 'p', 'c', 'm', 'd', 's', 'i', 'c', 'i', 'd', 'd', 'c', 'l', 'g', 'd', 'd', 's', 'p', 'a', 'c', 'e', 'e', 'e', 'R', 'a', 's', 's', 'c', 'c', 'l', 'f', 'f', 'a', 'S', 'A', 'l', 'd', 'm', 'e', 'p', 'n', 'i', 'a', 'M', 's', '(', 's', 'c', 'i', 'd', 'a', 'M', '(', 'o', 'e', 'q', 'f', '(', 'q', 'f', 's', 'i', 'c', 's', 'l', 'l', 'l', '(', 'o', 'e', 's', '(', 's', 'g', 'o', 'c', 'e', 's', 'g', 'l', '(', 'o', 'e', 'i', 't', '(', 'i', 't', 'e', 'i', 'c', 'd', 'c', '(', 'o', 'e', 'g', 'd', 'u', 'p', 'l', 't', 'l', 'a', '(', 'i', 'M', 'd', 'M', '(', 'p', 'I', 'n', 'm', 'n', 'i', 'n', 'u', 'i', 'g', 'v', 'l', 'f', 't', 'c', 'o', 'f', 'a', 'f', 'e', 's', 'c', 'b', 'i', 'm', 'i', 'B', 'c', 'n', 's', 'è', 'v', 'm', '(', 'l', 's', 'n', 'v', 'v', '(', 'p', 'm', 'd', 'n', 'l', 's', '(', 'i', 'P', 's', 'è', 's', 'S', 'i', 'n', 's', 'g', 's', '(', 'b', 'f', 'd', 'b', '(', 's', 'd', 'e', 'l', 'i', 'c', 'i', 'c', 'i', 'c', 'c', 'c', 'c', 's', 'c', 't', 'è', 'p', 'a', 'l', 'p', 'è', 'i', 'r', 'd', 'o', 'a', 'f', 'v', 's', 'u', 's', 's', 'a', 'b', 's', 'f', 'i', 'f', 'a', 'n', 'f', 'u', 'm', 'a', 'M', 's', '(', 's', 'c', 'i', 'd', 'a', 'M', '(', 'o', 'e', 'q', 'f', '(', 'q', 'f', 's', 'i', 'c', 's', 'l', 'l', 'l', '(', 'o', 'e', 's', '(', 's', 'g', 'o', 'c', 'e', 's', 'g', 'l', '(', 'o', 'e', 'i', 't', '(', 'i', 't', 'e', 'i', 'c', 'd', 'c', '(', 'o', 'e', 'p', 'q', 's', 'l', 't', 's', 'n', 'q', 'b', 'o', 'p', 'n', 'a', 'm', 's', 'v', 'e', 's', 'v', 'm', 'l', 'm', 'a', 'l', 't', 'c', 'c', 'h', 'u', 'g', 'a', 'q', 'a', 'M', 's', '(', 's', 'c', 'i', 'd', 'a', 'M', '(', 'o', 'e', 'q', 'f', '(', 'q', 'f', 's', 'i', 'c', 's', 'l', 'l', 'l', '(', 'o', 'e', 's', '(', 's', 'g', 'o', 'c', 'e', 's', 'g', 'l', '(', 'o', 'e', 'i', 't', '(', 'i', 't', 'e', 'i', 'c', 'd', 'c', '(', 'o', 'e'], 'd': ['a', 'e', 'a', 'e', 'u', 'i', 'a', 'e', 'e', 'o', 'o', 'i', 'e', 'i', 'e', 'a', 'a', 'a', 'o', ' ', 'o', 'o', 'i', 'o', 'e', 'e', 'a', 'i', 'e', 'i', 'o', 'i', 'e', 'i', 'a', 'i', 'a', 'e', 'e', 'i', 'i', 'i', 'a', 'r', 'a', 'o', 'e', 'e', 'o', 'e', 'e', 'e'], 'l': ['l', 'a', 'a', 'o', 'a', 'i', 'l', 'e', ' ', 'l', 'o', 't', 'e', 'i', 'i', 'i', ' ', 'i', 'o', 'i', 'i', 't', ' ', 'e', 'u', 't', ' ', ' ', 'l', 'o', 'i', 'l', 'e', ' ', ' ', ' ', 'c', 'o', 'l', \"'\", 't', 'z', 'l', 'a', 't', 'a', 'd', 'a', 'l', 'e', 'a', 'l', 'a', \"'\", 'i', 'o', ' ', ' ', 'i', ' ', 'a', 'a', 'a', 'i', 'à', 'o', 'l', 'a', \"'\", 'o', ' ', 'e', 'i', 'o', 'i', 'e', 'e', 't', 'e', 'l', 'a', 'e', 'i', 'e', 'a', 'e', 'o', ' ', 'i', 'c', 'i', \"'\", 'c', '\\n', ' ', 'c', 'e', \"'\", 'i', 'e', 'o', 'o', ' ', ' ', 'i', ' ', 'a', 'a', 'a', 'i', 'à', 'o', 'l', 'a', 'o', 'l', 'e', 'l', 'e', ' ', 'a', 'i', 'a', 'o', 'e', ' ', ' ', 'i', ' ', 'a', 'a', 'a', 'i', 'à', 'o', 'l', 'a'], 'G': ['r'], 'r': ['a', 'n', 'a', 'a', 't', 'o', 'e', 'a', 't', 'i', 't', 'r', 'e', 'e', 'r', 'o', 'i', 'u', 'o', 'r', 'i', 'n', 'i', 'e', 'e', 'd', 'a', 'v', 'à', 'i', 'à', 'g', 'a', 'a', 'a', 'i', 'a', 'i', 'i', 'i', 'o', 'o', 'a', 'i', 'a', 'i', 'i', 'a', 't', 'a', 'o', 'e', 'o', 'a', ' ', 'a', 'c', 'a', 'a', 'i', 'e', 'i', 'a', 'i', ',', 'à', 'c', 'e', 'i', 'd', 'à', 'à', 'à', 'e', 'a', 'a', 'a', 'a', 'i', 'a', 'i', 'i', 'i', 'o', 'o', 'a', 'i', 'a', 'i', 'i', ' ', 'a', 'r', 'a', 'e', 'm', 'e', 'a', 'c', 'a', 'a', 'a', 'i', 'a', 'i', 'i', 'i', 'o', 'o', 'a', 'i', 'a', 'i', 'i'], 'e': [' ', 'l', 'l', 'g', ' ', 'n', ' ', 'r', ' ', ' ', ' ', ' ', ' ', 'n', ' ', 't', 'l', ' ', 'r', ' ', ' ', ' ', 'd', ' ', ' ', 't', 'r', ' ', 'r', 'n', ' ', 'n', ' ', ' ', ' ', ' ', 'l', ' ', ' ', ' ', 'g', 'n', 'r', ' ', 'n', ' ', 'l', 'n', 'g', 'd', 's', 'm', 't', ' ', 's', ' ', ' ', ' ', 'l', 'r', ' ', ' ', 's', 'r', 's', 'r', 'l', 'h', 'n', 'h', ' ', 'h', ' ', 'l', 'h', 'h', 't', 't', ' ', 'i', ' ', 's', 'r', 's', 'd', ' ', '\\n', 'g', 'n', ' ', '\\n', 't', '\\n', 'c', ' ', ',', ' ', '\\n', 'r', ' ', ' ', 's', 'd', 'r', 'h', 's', ' ', 'r', 'g', ' ', 'r', ' ', 's', 'r', 'l', ' ', 'r', ' ', 'd', 'r', 'l', '\\n', 'r', 'v', 'd', '\\n', ' ', 't', ' ', 'n', ' ', 's', 'g', 'r', 'm', 'm', ' ', ' ', 'n', 's', 'r', 's', 'r', 'l', 'h', 'n', 'h', ' ', 'h', ' ', 'l', 'h', 'r', 'l', ' ', 'l', ' ', 'r', 'n', ' ', ' ', 't', ' ', ' ', 'r', 'm', ' ', 'n', 's', 'r', 's', 'r', 'l', 'h', 'n', 'h', ' ', 'h', ' ', 'l', 'h'], 'M': ['e', 'o', 'e', 'a', 'a', 'o', 'o', 'i', 'a', 'a', 'a', 'a', 'a'], '\\n': ['C', 'O', 'C', 'M', 'P', 'S', 'T', 'C', 'C', 'S', 'L', 'S', 'O', 'D', 'C', 'S', 'M', 'T', 'S', 'R', 'D', 'S', 'U', 'Q', 'D', 'U', 'T', 'S', 'È', 'A', 'S', 'A', 'A', 'C', 'T', 'M', 'P', 'C', 'T', 'L', 'L', 'Q', 'T', 'E', 'N', 'I', 'T', 'C', 'M', 'S', 'V', 'Q', 'D', 'U', 'T', 'E', 'P', 'I', 'F', 'Q', 'D', 'U', 'T'], 'C': [\"'\", 'o', 'o', 'o', 'h', 'o', 'h', 'o'], \"'\": ['è', 'a', 'o', 'è', ' ', 'a', 'a', 'a', 'I', 'è', 'è'], 'è': [' ', ' ', ' ', ' ', ' ', ' ', ' ', ' '], 'u': ['n', 'o', 'n', 'r', 'e', 'n', 'e', 'i', 'i', 'ò', 'i', 'i', 'o', 'e', 'd', 'a', 'r', 'l', 'l', 'o', 'e', 'e', 'a', 'o', 'a', 'o', 's', 'r', 'r', 'n', ' ', 'n', 'm', 'n', 't', 'n', 't', ' ', 'o', 'e', 'c', 't', 'n', 'e', 'n', 'n', 'e', 'e', 'a', 'o', 'a', 'o', 's', 'r', 'r', 'a', 't', 'a', 'r', 'a', 'n', 'i', 'e', 'e', 'a', 'o', 'a', 'o', 's', 'r', 'r'], 'p': ['i', 'a', 'o', 'p', 'o', 'o', 'o', 'o', 'o', 'i', 'u', 'a', 'a', 'o', 'e', 'e', 'a', 'à', 'i', 'i', 'o', 'e', 'e', 'a', 'e', 'e', 'r', 'e', 'i', 'o', 'o', 'e', 'r', 'e', 'i', 'i', 'e', 'e', 'i', 'i'], 'i': ['c', 'n', ' ', 'o', ' ', 'a', ' ', 'l', 'n', 'a', 'b', 'l', ',', 'b', 'l', 't', ' ', 'e', 'm', 'n', 't', 'e', ' ', '\\n', ' ', 'c', ' ', '\\n', ' ', ' ', ' ', 'l', ' ', 'd', ' ', 'o', 'v', 'v', 'l', ' ', 'o', 'u', ' ', ' ', 'a', ' ', 'n', 'l', 'o', 'o', 'r', 'p', 'e', 'o', ' ', 'd', 'l', 'r', 'o', ' ', ')', ' ', ':', 'r', 'r', ' ', ' ', 'u', ' ', 'à', ' ', ' ', ' ', ')', ' ', ' ', 't', 'à', ' ', 'l', 'a', ' ', 'a', ' ', ' ', ' ', 'n', ' ', 'à', 'l', 'a', 'l', 't', 'v', ' ', 'n', 'n', 'c', 'l', ' ', 'a', ' ', 'n', 'l', 'l', ' ', 's', ' ', 'a', ' ', 'e', ' ', ',', '?', 'l', ' ', ' ', ' ', ' ', 's', 'o', ' ', 'e', ' ', ' ', ' ', 'r', 'o', 'f', ' ', 'n', ' ', 'o', ' ', 'n', 's', 'o', 'b', 'l', 'a', 'm', 'b', 'l', ' ', 'c', ' ', ' ', ' ', ' ', 'n', 'e', 'n', 'v', 'r', 'l', 'r', 'o', ' ', ')', ' ', ':', 'r', 'r', ' ', ' ', 'u', ' ', 'à', ' ', ' ', ' ', ')', ' ', ' ', 't', 'a', ' ', ' ', 'a', ' ', 'a', ' ', 'e', ' ', 'a', ' ', 'l', 'r', 'o', ' ', ')', ' ', ':', 'r', 'r', ' ', ' ', 'u', ' ', 'à', ' ', ' ', ' ', ')', ' ', ' ', 't'], 'c': ['c', 'o', 'h', 'o', 'h', 'r', 'o', 'u', 'o', 'h', 'o', 'h', 'h', 'c', 'h', 'o', 'e', 'a', 'a', 'i', 'a', 'u', 'h', 'e', 'a', \"'\", 'a', 'o', 'c', 'h', 'h', 'o', 'i', 'a', 'h', 'n', 'a', 'h', 'o', 'h', 'i', 'o', 'o', 'a', 'a', 'a', 'h', 'h', 'o', 'c', 'e', 'a', 'i', 'h', 'o', 'o', 'o', 'a', \"'\", 'a', 'o', 'c', 'h', 'h', 'o', 'i', 'a', 'h', 'o', 'o', 'a', \"'\", 'a', 'o', 'c', 'h', 'h', 'o', 'i'], 'm': ['o', 'a', 'a', 'i', 'e', 'm', 'e', 'o', 'o', 'p', 'u', 'a', 'm', 'a', 'b', 'b', 'a', 'e', 'e', 'p', 'b', 'o', 'a', 'a', 'i', 'p', 'p', 'p', 'o', 'p', 'u', 'o', 'e', 'i', 'b', 'b', ' ', 'o', 'o', 'e', 'a', 'e', 'o', 'b', 'b'], 'f': ['a', 'o', 'i', 'a', 'a', 'u', 'u', 'i', 'i', 'i', 'u', 'o', 'a', 'e', 'i', 'o', 'u', 'u', 'u', 'u'], 'v': ['e', 'e', 'e', 'i', 'i', 'e', 'a', 'a', 'e', 'o', 'o', 'i', 'o', 'e', 'i', 'i', 'i', 'a', 'e', 'a', 'e', 'i', 'a'], 'O': ['g', 'g'], 'g': ['n', 'i', 'l', 'l', 'l', 'n', 'i', 'n', 'o', 'l', 'g', 'i', 'n', 'u', 'n', 'o', 'l', 'l', 'i', 'i', 'l', 'r', 'i', 'g', 'i', 'g', 'i', 'l', 'g', 'e', 'l', 'i', 'l', 'r', 'l', 'i'], 's': ['i', 'v', 'i', 'e', 't', 'b', 's', 'i', 's', 'i', 't', 'e', 'u', 'o', 'g', 'c', 'c', 'a', 'u', 'é', 't', 's', 'o', ' ', 't', 'e', 't', 'e', 'e', 'h', 'o', 'p', 'o', 'p', 'i', 'o', 'p', 'p', 's', 'u', 's', 'i', 't', 't', 'i', 'ì', 'i', 't', 't', 's', 'u', 'a', 'e', 't', 'e', 'u', 'o', 't', 'c', 't', 'e', 'i', 's', 'à', 'a', 'u', 's', 'i', 'a', 'p', 'e', 'i', 't', 'i', 't', 'e', 't', 'e', 'e', 'h', 'o', 'p', 'o', 'p', 'i', 'o', 'i', 'i', 'i', 'i', 't', 'e', 't', 'e', 'e', 'h', 'o', 'p', 'o', 'p', 'i', 'o'], 'b': ['a', 'i', 'i', 'u', 'u', 'u', 'r', 'o', 'a', 'a', 'a', 'i', 'i', 'e', 'u', 'u', 'i', 'a', 'u', 'u'], ',': [' ', ' ', ' ', ' ', ' ', ' ', ' ', ' ', ' ', ' ', ' '], 'P': ['u', 'e', 'a', 'e'], 'h': ['e', 'e', 'a', 'e', 'a', 'e', 'a', 'e', 'a', 'i', 'i', 'e', ' ', ' ', ')', 'a', ' ', ' ', ')', 'i', 'i', ' ', ' ', ')', ' ', ' ', ')', ',', ')', 'e', 'e', ')', 'i', 'é', ')', ')', ')', 'i', 'e', 'é', ' ', ' ', ')', 'a', ' ', ' ', ')', 'i', 'i', ' ', ' ', ')', ' ', ' ', ')', 'e', 'a', ' ', ' ', ')', 'a', ' ', ' ', ')', 'i', 'i', ' ', ' ', ')', ' ', ' ', ')'], 'à': ['\\n', ' ', '\\n', '\\n', ' ', '\\n', ' ', ' ', ' ', ' ', ' ', ' ', '\\n', ' ', ' ', '\\n', ' ', ' ', ' ', ' ', ' ', ' '], 'S': ['i', 'a', 'o', 'o', 'e', 'e', 'a', 'e', 'o', 'e', 'k', 'a'], 'q': ['u', 'u', 'u', 'u', 'u', 'u', 'u', 'u', 'u', 'u', 'u', 'u'], 'T': ['r', 'i', 'r', 'r', 'e', 'u', 'i', 'i', 'r', 'r', 'r', 'r'], 'ò': [' '], '(': ['N', 'N', 'Q', 'E', 'D', 'E', 'U', 'E', 'T', 'E', 'B', 'A', 'N', 'A', 'S', 'A', 'A', 'Q', 'E', 'D', 'E', 'U', 'E', 'T', 'E', 'Q', 'E', 'D', 'E', 'U', 'E', 'T', 'E'], 'N': ['o', 'o', 'o', 'e'], ')': ['\\n', '\\n', ' ', '\\n', ' ', '\\n', ' ', '\\n', ' ', '\\n', '\\n', '\\n', '\\n', '\\n', '\\n', '\\n', '\\n', ' ', '\\n', ' ', '\\n', ',', '\\n', ' ', '\\n', ' ', '\\n', ' ', '\\n', ',', '\\n', ' '], 'D': ['a', 'a', 'a', 'a', 'a', 'a', 'a', 'a'], 'z': ['o', 'z', 'u'], 'R': ['o', 'i'], 'é': [' ', ',', ' '], 'A': ['\\n', 'h', ' ', 'g', 't', 'h', 'h', 'h'], 'U': ['n', 'n', 'n', 'n', 'n', 'n', 'n'], 'ã': ['\\n', ' ', '\\n', ' ', '\\n', ' '], 'Q': ['u', 'u', 'u', 'u', 'u', 'u', 'u'], 'E': ['h', 'h', 'h', 'h', ' ', 'h', 'h', 'h', 'h', ' ', 'h', 'h', 'h', 'h'], ':': [' ', ' ', ' '], 'B': ['r', 'r'], 'È': [' '], 'I': ['b', 'o', 't', 'o'], 'ì': [' '], '?': [' ', '\\n', '\\n'], 'k': ['y'], 'y': ['\\n'], 'V': ['i'], 'F': ['o']}\n"
     ]
    },
    {
     "name": "stdin",
     "output_type": "stream",
     "text": [
      "\n",
      "Inserisci una lettera iniziale:  4\n"
     ]
    }
   ],
   "source": [
    "# Compito Parte 1\n",
    "with open(\"maracana.txt\", \"r\", encoding=\"utf-8\") as f:\n",
    "    testo = f.read()\n",
    "\n",
    "# 1. Dizionario frequenze\n",
    "freq = {}\n",
    "for c in testo:\n",
    "    freq[c] = freq.get(c, 0) + 1\n",
    "\n",
    "print(\"Dizionario delle frequenze:\")\n",
    "print(freq)\n",
    "\n",
    "# Successori\n",
    "\n",
    "successori = {}\n",
    "for i in range(len(testo) - 1):\n",
    "    c = testo[i]\n",
    "    succ = testo[i + 1]\n",
    "    if c not in successori:\n",
    "        successori[c] = []\n",
    "    successori[c].append(succ)\n",
    "\n",
    "print(\"\\nDizionario dei successori:\")\n",
    "print(successori)\n",
    "\n",
    "# Compito Parte 2\n",
    "iniziale = input(\"\\nInserisci una lettera iniziale: \")\n",
    "lunghezza = int(input(\"Inserisci la lunghezza della sequenza: \"))\n",
    "\n",
    "sequenza = iniziale\n",
    "corrente = iniziale\n",
    "\n",
    "for _ in range(lunghezza - 1):\n",
    "    if corrente in successori and successori[corrente]:\n",
    "        corrente = random.choice(successori[corrente])\n",
    "        sequenza += corrente\n",
    "    else:\n",
    "        break\n",
    "\n",
    "print(\"\\nSequenza generata:\")\n",
    "print(sequenza)\n"
   ]
  },
  {
   "cell_type": "code",
   "execution_count": null,
   "id": "d2519f2c-1285-4f26-9b50-dd6bbae2a515",
   "metadata": {},
   "outputs": [],
   "source": []
  }
 ],
 "metadata": {
  "kernelspec": {
   "display_name": "Python [conda env:base] *",
   "language": "python",
   "name": "conda-base-py"
  },
  "language_info": {
   "codemirror_mode": {
    "name": "ipython",
    "version": 3
   },
   "file_extension": ".py",
   "mimetype": "text/x-python",
   "name": "python",
   "nbconvert_exporter": "python",
   "pygments_lexer": "ipython3",
   "version": "3.13.5"
  }
 },
 "nbformat": 4,
 "nbformat_minor": 5
}
